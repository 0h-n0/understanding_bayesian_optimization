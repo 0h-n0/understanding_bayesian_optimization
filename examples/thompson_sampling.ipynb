{
 "cells": [
  {
   "cell_type": "code",
   "execution_count": 1,
   "metadata": {},
   "outputs": [],
   "source": [
    "import math\n",
    "\n",
    "import torch\n",
    "import botorch\n",
    "import gpytorch\n",
    "import gpytorch.means as means\n",
    "import gpytorch.kernels as kernels\n",
    "import gpytorch.likelihoods as likelihoods\n",
    "from gpytorch.distributions import MultivariateNormal\n",
    "import plotly.graph_objects as go\n",
    "from plotly.subplots import make_subplots\n",
    "import numpy as np\n",
    "\n",
    "import warnings\n",
    "warnings.filterwarnings('ignore')\n",
    "\n",
    "import plotly.io as pio\n",
    "pio.renderers.default = \"png\""
   ]
  },
  {
   "cell_type": "code",
   "execution_count": 3,
   "metadata": {},
   "outputs": [],
   "source": [
    "def create_1d_multivaridate_normal(x, kernel, **kernel_args):\n",
    "    mean_module = means.ZeroMean()\n",
    "    mean = mean_module(x)    \n",
    "    covariance_matrix = kernel(x.view(-1, 1), **kernel_args)\n",
    "    if \"diag\" in kernel_args.keys():\n",
    "        covariance_matrix = torch.diag(covariance_matrix)\n",
    "    dist = MultivariateNormal(mean, covariance_matrix)\n",
    "    return x, dist.sample()"
   ]
  },
  {
   "cell_type": "code",
   "execution_count": null,
   "metadata": {},
   "outputs": [],
   "source": [
    "def plot(fig, x, y, name, row, col):\n",
    "    fig.add_trace(go.Scatter(x=x, y=y, mode=\"lines+markers\", name=name), row, col)\n",
    "    return fig"
   ]
  },
  {
   "cell_type": "code",
   "execution_count": 4,
   "metadata": {},
   "outputs": [],
   "source": [
    "def plot_kernel(fig, x, k, row, col, **kernel_args):\n",
    "    x, y = create_1d_multivaridate_normal(x, k, **kernel_args)\n",
    "    fig = plot(fig, x, y, k.__class__.__name__, row, col)\n",
    "    return fig"
   ]
  },
  {
   "cell_type": "code",
   "execution_count": null,
   "metadata": {},
   "outputs": [],
   "source": []
  },
  {
   "cell_type": "code",
   "execution_count": null,
   "metadata": {},
   "outputs": [],
   "source": [
    "SAMPLE_KERNEL = kernels.RBFKernel()\n",
    "SAMPLE_LINELIHOOD = likelihoods.GaussianLikelihood\n",
    "NUM_SAMPLES = 100\n",
    "X = torch.linspace(-math.pi, math.pi, NUM_SAMPLES)  "
   ]
  },
  {
   "cell_type": "code",
   "execution_count": null,
   "metadata": {},
   "outputs": [],
   "source": []
  }
 ],
 "metadata": {
  "kernelspec": {
   "display_name": ".venv",
   "language": "python",
   "name": "python3"
  },
  "language_info": {
   "codemirror_mode": {
    "name": "ipython",
    "version": 3
   },
   "file_extension": ".py",
   "mimetype": "text/x-python",
   "name": "python",
   "nbconvert_exporter": "python",
   "pygments_lexer": "ipython3",
   "version": "3.11.3"
  }
 },
 "nbformat": 4,
 "nbformat_minor": 2
}
